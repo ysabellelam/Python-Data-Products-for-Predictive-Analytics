{
  "nbformat": 4,
  "nbformat_minor": 0,
  "metadata": {
    "colab": {
      "name": "QuizCode.ipynb",
      "provenance": [],
      "authorship_tag": "ABX9TyO+sLER5upKuDdHi6McGz30",
      "include_colab_link": true
    },
    "kernelspec": {
      "name": "python3",
      "display_name": "Python 3"
    }
  },
  "cells": [
    {
      "cell_type": "markdown",
      "metadata": {
        "id": "view-in-github",
        "colab_type": "text"
      },
      "source": [
        "<a href=\"https://colab.research.google.com/github/ysabellelam/Python-Data-Products-for-Predictive-Analytics/blob/master/QuizCode.ipynb\" target=\"_parent\"><img src=\"https://colab.research.google.com/assets/colab-badge.svg\" alt=\"Open In Colab\"/></a>"
      ]
    },
    {
      "cell_type": "code",
      "metadata": {
        "id": "VL2iJTNqORoH",
        "colab_type": "code",
        "colab": {}
      },
      "source": [
        "X = [\"a\", \"b\", \"c\", \"d\", \"e\", \"f\", \"g\", \"h\", \"i\", \"j\"]\n",
        "y = [1,2,3,4,5,6,7,8,9,10]"
      ],
      "execution_count": 34,
      "outputs": []
    },
    {
      "cell_type": "code",
      "metadata": {
        "id": "2HKW90BYOSXk",
        "colab_type": "code",
        "colab": {}
      },
      "source": [
        "def split_dataset(X,y):\n",
        "  train_size = int(0.6 * len(X))\n",
        "  test_size = int(0.2*len(X))\n",
        "  val_size = int(0.2*len(X))\n",
        "  X_train = X[:train_size]\n",
        "  X_test = X[train_size:(train_size+test_size)]\n",
        "  X_validation =  X[(train_size+test_size):]\n",
        "  y_train = y[:train_size]\n",
        "  y_test = y[train_size:(train_size+test_size)]\n",
        "  y_validation =  y[(train_size+test_size):]\n",
        "  return [X_train, X_test, X_validation, y_train, y_test, y_validation]\n",
        " "
      ],
      "execution_count": 45,
      "outputs": []
    },
    {
      "cell_type": "code",
      "metadata": {
        "id": "zsPbLYNEQfRX",
        "colab_type": "code",
        "colab": {
          "base_uri": "https://localhost:8080/",
          "height": 119
        },
        "outputId": "848dbd38-123f-40df-bde4-ff6e3378ae85"
      },
      "source": [
        "split_dataset(X,y)"
      ],
      "execution_count": 46,
      "outputs": [
        {
          "output_type": "execute_result",
          "data": {
            "text/plain": [
              "[['a', 'b', 'c', 'd', 'e', 'f'],\n",
              " ['g', 'h'],\n",
              " ['i', 'j'],\n",
              " [1, 2, 3, 4, 5, 6],\n",
              " [7, 8],\n",
              " [9, 10]]"
            ]
          },
          "metadata": {
            "tags": []
          },
          "execution_count": 46
        }
      ]
    },
    {
      "cell_type": "code",
      "metadata": {
        "id": "WnRitRLOfqHF",
        "colab_type": "code",
        "colab": {
          "base_uri": "https://localhost:8080/",
          "height": 68
        },
        "outputId": "d764e987-09f4-4cd2-e8a5-cf930d2d787a"
      },
      "source": [
        "# initializing string   \n",
        "test_list = [1, 4, 5, 6, 7, 3, 5, 9, 2, 4] \n",
        "  \n",
        "# initializing split index list  \n",
        "split_list = [2, 5, 7] \n",
        "  \n",
        "# printing original list \n",
        "print (\"The original list is : \" + str(test_list)) \n",
        "  \n",
        "# printing original split index list \n",
        "print (\"The original split index list : \" + str(split_list)) \n",
        "  \n",
        "# using list comprehension + zip() \n",
        "# to perform custom list split \n",
        "res = [test_list[i : j] for i, j in zip([0] + \n",
        "          split_list, split_list + [None])] \n",
        "  \n",
        "# printing result \n",
        "print (\"The splitted lists are : \" +  str(res)) \n"
      ],
      "execution_count": 39,
      "outputs": [
        {
          "output_type": "stream",
          "text": [
            "The original list is : [1, 4, 5, 6, 7, 3, 5, 9, 2, 4]\n",
            "The original split index list : [2, 5, 7]\n",
            "The splitted lists are : [[1, 4], [5, 6, 7], [3, 5], [9, 2, 4]]\n"
          ],
          "name": "stdout"
        }
      ]
    }
  ]
}